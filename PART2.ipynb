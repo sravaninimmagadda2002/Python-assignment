{
 "cells": [
  {
   "cell_type": "code",
   "execution_count": 17,
   "id": "5e2ca2f0",
   "metadata": {},
   "outputs": [
    {
     "name": "stdout",
     "output_type": "stream",
     "text": [
      "Data successfully written to amazon_products_extended1.csv.\n"
     ]
    }
   ],
   "source": [
    "import requests\n",
    "from bs4 import BeautifulSoup\n",
    "import csv\n",
    "\n",
    "url = \"https://www.amazon.in/s?k=bags&crid=2M096C6104MLT&qid=1653308124&sprefix=ba%2Caps+C283&ref=sr_pg_1\"\n",
    "\n",
    "product_urls = []\n",
    "\n",
    "def scrape_page_data(page_url):\n",
    "    response = requests.get(page_url)\n",
    "    soup = BeautifulSoup(response.content, \"html.parser\")\n",
    "\n",
    "    products = soup.find_all(\"div\", {\"data-component-type\": \"s-search-result\"})\n",
    "\n",
    "    for product in products:\n",
    "        product_url = \"https://www.amazon.in\" + product.find(\"a\", {\"class\": \"a-link-normal\"})['href']\n",
    "        \n",
    "        if product_url:\n",
    "            product_urls.append(product_url)\n",
    "\n",
    "def scrape_multiple_pages(num_pages):\n",
    "    for page in range(1, num_pages + 1):\n",
    "        page_url = url.replace(\"sr_pg_1\", f\"sr_pg_{page}\")\n",
    "        scrape_page_data(page_url)\n",
    "        \n",
    "        if len(product_urls) >= 200:\n",
    "            break\n",
    "\n",
    "scrape_multiple_pages(20)\n",
    "\n",
    "def scrape_product_data(product_url):\n",
    "    response = requests.get(product_url)\n",
    "    soup = BeautifulSoup(response.content, \"html.parser\")\n",
    "\n",
    "    description = soup.find(\"div\", {\"id\": \"feature-bullets\"})\n",
    "    asin = soup.find(\"th\", string=\"ASIN\")\n",
    "    product_description = soup.find(\"div\", {\"id\": \"productDescription\"})\n",
    "    manufacturer = soup.find(\"a\", {\"id\": \"bylineInfo\"})\n",
    "\n",
    "    description_text = description.get_text(strip=True) if description else \"\"\n",
    "    asin_text = asin.find_next_sibling(\"td\").get_text(strip=True) if asin else \"\"\n",
    "    product_description_text = product_description.get_text(strip=True) if product_description else \"\"\n",
    "    manufacturer_text = manufacturer.get_text(strip=True) if manufacturer else \"\"\n",
    "\n",
    "    return {\n",
    "        \"Product URL\": product_url,\n",
    "        \"Description\": description_text,\n",
    "        \"ASIN\": asin_text,\n",
    "        \"Product Description\": product_description_text,\n",
    "        \"Manufacturer\": manufacturer_text\n",
    "    }\n",
    "\n",
    "product_data = []\n",
    "for url in product_urls:\n",
    "    product_info = scrape_product_data(url)\n",
    "    product_data.append(product_info)\n",
    "\n",
    "filename = 'amazon_products_extended.csv'\n",
    "headers = ['Product URL', 'Description', 'ASIN', 'Product Description', 'Manufacturer']\n",
    "\n",
    "with open(filename, 'w', newline='', encoding='utf-8') as csvfile:\n",
    "    writer = csv.DictWriter(csvfile, fieldnames=headers)\n",
    "    writer.writeheader()\n",
    "    writer.writerows(product_data)\n",
    "\n",
    "print(f'Data successfully written to {filename}.')\n"
   ]
  },
  {
   "cell_type": "code",
   "execution_count": null,
   "id": "98635d37",
   "metadata": {},
   "outputs": [],
   "source": []
  }
 ],
 "metadata": {
  "kernelspec": {
   "display_name": "Python 3 (ipykernel)",
   "language": "python",
   "name": "python3"
  },
  "language_info": {
   "codemirror_mode": {
    "name": "ipython",
    "version": 3
   },
   "file_extension": ".py",
   "mimetype": "text/x-python",
   "name": "python",
   "nbconvert_exporter": "python",
   "pygments_lexer": "ipython3",
   "version": "3.9.7"
  }
 },
 "nbformat": 4,
 "nbformat_minor": 5
}
